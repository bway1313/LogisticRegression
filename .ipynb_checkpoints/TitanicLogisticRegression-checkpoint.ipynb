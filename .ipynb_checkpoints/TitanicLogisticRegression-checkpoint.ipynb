{
 "cells": [
  {
   "cell_type": "code",
   "execution_count": 1,
   "id": "4bab1818-65e7-408f-97c3-09afe36672da",
   "metadata": {
    "tags": []
   },
   "outputs": [],
   "source": [
    "import pandas as pd\n",
    "from sklearn.linear_model import LogisticRegression"
   ]
  },
  {
   "cell_type": "code",
   "execution_count": 2,
   "id": "92cfcfdf-ac45-4d23-93e0-ceae00847617",
   "metadata": {
    "tags": []
   },
   "outputs": [],
   "source": [
    "#Loading the data\n",
    "titanic = pd.read_csv(\"Logistic-Regression/titanic.csv\")\n",
    "\n",
    "#One-hot encoding categorical variables\n",
    "titanic = pd.get_dummies(titanic, columns = [\"Sex\", \"Embarked\"], drop_first = True)"
   ]
  },
  {
   "cell_type": "code",
   "execution_count": 3,
   "id": "7c455fa8-ab4e-49b0-8038-bccee9d974e6",
   "metadata": {
    "tags": []
   },
   "outputs": [],
   "source": [
    "#Establishing variables to be utilized and dependent y variable\n",
    "\n",
    "x = titanic[[\"Pclass\", \"Sex_male\", \"SibSp\", \"ParCh\", \"Fare\", \"Embarked_Q\", \"Embarked_S\"]]\n",
    "y = titanic[\"Survived\"]"
   ]
  },
  {
   "cell_type": "code",
   "execution_count": 4,
   "id": "d4d1da3f-7a89-4b76-b406-86abd8b729db",
   "metadata": {},
   "outputs": [],
   "source": [
    "#Establish parameters for Logistic Regression function\n",
    "\n",
    "lr = LogisticRegression(penalty=None, max_iter=10000)"
   ]
  },
  {
   "cell_type": "code",
   "execution_count": 5,
   "id": "8ad44ca7-e37b-4fc9-b686-8516b3649eeb",
   "metadata": {
    "tags": []
   },
   "outputs": [],
   "source": [
    "#Train my model\n",
    "\n",
    "model_1 = lr.fit(x,y)"
   ]
  },
  {
   "cell_type": "code",
   "execution_count": 6,
   "id": "baa8fa26-9636-4828-a3ea-abb17ee5abc7",
   "metadata": {
    "tags": []
   },
   "outputs": [
    {
     "name": "stdout",
     "output_type": "stream",
     "text": [
      "The Y-intercept is 3.5102517811687632\n"
     ]
    }
   ],
   "source": [
    "y_int = model_1.intercept_[0]\n",
    "print(f\"The Y-intercept is {y_int}\")"
   ]
  },
  {
   "cell_type": "code",
   "execution_count": 7,
   "id": "249f7d09-1d70-4f31-bdc2-7893c473f360",
   "metadata": {
    "tags": []
   },
   "outputs": [
    {
     "data": {
      "text/plain": [
       "{'Pclass': -0.8411983155828998,\n",
       " 'Sex_male': -2.7320960369541756,\n",
       " 'SibSp': -0.23407187116223502,\n",
       " 'ParCh': -0.07432788709763255,\n",
       " 'Fare': 0.002453243904122762,\n",
       " 'Embarked_Q': -0.20764540161623551,\n",
       " 'Embarked_S': -0.4703463526215942}"
      ]
     },
     "execution_count": 7,
     "metadata": {},
     "output_type": "execute_result"
    }
   ],
   "source": [
    "#Evaluate the coeffecients in the model, provide some intrepetation for a few models\n",
    "\n",
    "coef_dict = dict(zip(model_1.feature_names_in_, model_1.coef_[0]))\n",
    "coef_dict"
   ]
  },
  {
   "cell_type": "code",
   "execution_count": 8,
   "id": "366e97f8-9ebe-4dd4-add4-e8ece033cfd9",
   "metadata": {
    "tags": []
   },
   "outputs": [
    {
     "name": "stdout",
     "output_type": "stream",
     "text": [
      "All else being equal, if a passenger is male the log odds of survival decreases by -2.7320960369541756.\n",
      "All else being equal, every unit of fare a ticket increases the log odds of survival increases by 0.002453243904122762.\n",
      "All else being equal, every additional parent or child onboard decreases the log odds of survival by -0.07432788709763255.\n"
     ]
    }
   ],
   "source": [
    "print(f\"All else being equal, if a passenger is male the log odds of survival decreases by {coef_dict['Sex_male']}.\")\n",
    "print(f\"All else being equal, every unit of fare a ticket increases the log odds of survival increases by {coef_dict['Fare']}.\")\n",
    "print(f\"All else being equal, every additional parent or child onboard decreases the log odds of survival by {coef_dict['ParCh']}.\")"
   ]
  },
  {
   "cell_type": "markdown",
   "id": "0d2f982c-e1b5-4a77-9e5c-c51f0c5e3656",
   "metadata": {},
   "source": [
    "Lets predict the probability of survival for a passener who meets the following criteria with my logistic regression model:\\\n",
    "• Is female\\\n",
    "• Has a first class ticket that cost $62.50\\\n",
    "• Has a spouse, no siblings, no parents, and two children aboard\\\n",
    "• Embarked from Queenstown"
   ]
  },
  {
   "cell_type": "code",
   "execution_count": 9,
   "id": "de016f15-a757-4fbd-a254-68de41e8e7d9",
   "metadata": {
    "tags": []
   },
   "outputs": [],
   "source": [
    "#Inputting this passengers charateristics into my model\n",
    "\n",
    "pass_surv_logodds = model_1.intercept_[0] + coef_dict['Sex_male'] * 0 + coef_dict['Fare'] * 62.5 + coef_dict['Pclass'] * 1 + coef_dict['SibSp'] * 1 + coef_dict[\"ParCh\"] * 2 + coef_dict[\"Embarked_Q\"] * 1 "
   ]
  },
  {
   "cell_type": "code",
   "execution_count": 10,
   "id": "f463bd7e-19fb-4497-a924-228fb3c9f118",
   "metadata": {
    "tags": []
   },
   "outputs": [
    {
     "data": {
      "text/plain": [
       "2.2320081626198007"
      ]
     },
     "execution_count": 10,
     "metadata": {},
     "output_type": "execute_result"
    }
   ],
   "source": [
    "#Log Odds of Survival\n",
    "\n",
    "pass_surv_logodds"
   ]
  },
  {
   "cell_type": "code",
   "execution_count": 11,
   "id": "656a2865-2c98-4e32-a137-f046f103383f",
   "metadata": {
    "tags": []
   },
   "outputs": [
    {
     "name": "stdout",
     "output_type": "stream",
     "text": [
      "The probabilty of survival of this passenger is 9.69%\n"
     ]
    }
   ],
   "source": [
    "#Transforming Log Odds into probability\n",
    "\n",
    "import math\n",
    "\n",
    "odds = math.exp(pass_surv_logodds)\n",
    "probability = 1 / (1 + odds)\n",
    "\n",
    "print(f\"The probabilty of survival of this passenger is {probability:.2%}\")"
   ]
  }
 ],
 "metadata": {
  "kernelspec": {
   "display_name": "Python 3 (ipykernel)",
   "language": "python",
   "name": "python3"
  },
  "language_info": {
   "codemirror_mode": {
    "name": "ipython",
    "version": 3
   },
   "file_extension": ".py",
   "mimetype": "text/x-python",
   "name": "python",
   "nbconvert_exporter": "python",
   "pygments_lexer": "ipython3",
   "version": "3.11.5"
  }
 },
 "nbformat": 4,
 "nbformat_minor": 5
}
